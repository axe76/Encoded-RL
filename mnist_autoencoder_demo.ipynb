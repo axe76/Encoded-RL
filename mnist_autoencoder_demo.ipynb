{
 "cells": [
  {
   "cell_type": "code",
   "execution_count": 1,
   "metadata": {},
   "outputs": [],
   "source": [
    "from keras.layers import Conv2D\n",
    "from keras.layers import Input\n",
    "from keras.layers import MaxPooling2D, UpSampling2D\n",
    "from keras.models import Model\n",
    "from keras.datasets.mnist import load_data\n",
    "from keras.models import load_model\n",
    "import numpy as np\n",
    "import matplotlib.pyplot as plt\n",
    "import os"
   ]
  },
  {
   "cell_type": "code",
   "execution_count": 2,
   "metadata": {},
   "outputs": [],
   "source": [
    "os.environ['TF_FORCE_GPU_ALLOW_GROWTH'] = 'true'"
   ]
  },
  {
   "cell_type": "code",
   "execution_count": 3,
   "metadata": {},
   "outputs": [
    {
     "name": "stdout",
     "output_type": "stream",
     "text": [
      "(60000, 28, 28) (10000, 28, 28)\n",
      "(60000, 28, 28, 1) (10000, 28, 28, 1)\n"
     ]
    }
   ],
   "source": [
    "(xtrain, _), (xtest, _) = load_data()\n",
    "xtrain = xtrain.astype('float32') / 255\n",
    "xtest = xtest.astype('float32') / 255\n",
    " \n",
    "print(xtrain.shape, xtest.shape)\n",
    "\n",
    "x_train = np.reshape(xtrain, (len(xtrain), 28, 28, 1)) \n",
    "x_test = np.reshape(xtest, (len(xtest), 28, 28, 1))\n",
    " \n",
    "print(x_train.shape, x_test.shape) "
   ]
  },
  {
   "cell_type": "code",
   "execution_count": 4,
   "metadata": {},
   "outputs": [],
   "source": [
    "class AutoEncoder():\n",
    "    def __init__(self,x_train,x_test):\n",
    "        self.x_train = x_train\n",
    "        self.x_test = x_test\n",
    "        # print(self.x_train.shape, self.x_test.shape) \n",
    "\n",
    "    def _encoder(self):\n",
    "        input_img = Input(shape=(28, 28,1))\n",
    "        enc_conv1 = Conv2D(12, (3, 3), activation='relu', padding='same')(input_img)\n",
    "        enc_pool1 = MaxPooling2D((2, 2), padding='same')(enc_conv1)\n",
    "        enc_conv2 = Conv2D(8, (4, 4), activation='relu', padding='same')(enc_pool1)\n",
    "        enc_ouput = MaxPooling2D((4, 4), padding='same')(enc_conv2)\n",
    "        model = Model(input_img, enc_ouput)\n",
    "        self.encoder = model\n",
    "        return model\n",
    "\n",
    "    def _decoder(self):\n",
    "        dec_input = Input(shape=(4,4,8))        \n",
    "        dec_conv2 = Conv2D(8, (4, 4), activation='relu', padding='same')(dec_input)\n",
    "        dec_upsample2 = UpSampling2D((4, 4))(dec_conv2)\n",
    "        dec_conv3 = Conv2D(12, (3, 3), activation='relu')(dec_upsample2)\n",
    "        dec_upsample3 = UpSampling2D((2, 2))(dec_conv3)\n",
    "        dec_output = Conv2D(1, (3, 3), activation='sigmoid', padding='same')(dec_upsample3)\n",
    "        model = Model(dec_input, dec_output)\n",
    "        self.decoder = model\n",
    "        return model\n",
    "\n",
    "    def encoder_decoder(self):\n",
    "        enc = self._encoder()\n",
    "        dec = self._decoder()\n",
    "        inputs = Input(shape=(28,28,1))\n",
    "        enc_out = enc(inputs)\n",
    "        dec_out = dec(enc_out)\n",
    "        model = Model(inputs, dec_out)\n",
    "        self.model = model\n",
    "        return model\n",
    "\n",
    "    def fit(self, batch_size=128, epochs=20):\n",
    "        self.model.compile(optimizer='nadam',loss='binary_crossentropy')\n",
    "        # self.model.compile(optimizer='rmsprop',loss='binary_crossentropy')\n",
    "        self.model.fit(self.x_train, self.x_train, epochs=epochs, batch_size=batch_size)\n",
    "\n",
    "    def save_model(self):\n",
    "        self.encoder.save('./weights/encoder_weights.h5')\n",
    "        self.decoder.save('./weights/decoder_weights.h5')\n",
    "        self.model.save('./weights/autoencoder_weights.h5')\n"
   ]
  },
  {
   "cell_type": "code",
   "execution_count": 5,
   "metadata": {},
   "outputs": [
    {
     "name": "stdout",
     "output_type": "stream",
     "text": [
      "Epoch 1/30\n",
      "469/469 [==============================] - 2s 4ms/step - loss: 0.2299\n",
      "Epoch 2/30\n",
      "469/469 [==============================] - 2s 4ms/step - loss: 0.1636\n",
      "Epoch 3/30\n",
      "469/469 [==============================] - 2s 4ms/step - loss: 0.1511\n",
      "Epoch 4/30\n",
      "469/469 [==============================] - 2s 4ms/step - loss: 0.1446\n",
      "Epoch 5/30\n",
      "469/469 [==============================] - 2s 4ms/step - loss: 0.1397\n",
      "Epoch 6/30\n",
      "469/469 [==============================] - 2s 4ms/step - loss: 0.1362\n",
      "Epoch 7/30\n",
      "469/469 [==============================] - 2s 4ms/step - loss: 0.1338\n",
      "Epoch 8/30\n",
      "469/469 [==============================] - 2s 5ms/step - loss: 0.1318\n",
      "Epoch 9/30\n",
      "469/469 [==============================] - 2s 4ms/step - loss: 0.1302\n",
      "Epoch 10/30\n",
      "469/469 [==============================] - 2s 4ms/step - loss: 0.1287\n",
      "Epoch 11/30\n",
      "469/469 [==============================] - 2s 4ms/step - loss: 0.1277\n",
      "Epoch 12/30\n",
      "469/469 [==============================] - 2s 5ms/step - loss: 0.1265\n",
      "Epoch 13/30\n",
      "469/469 [==============================] - 2s 4ms/step - loss: 0.1256\n",
      "Epoch 14/30\n",
      "469/469 [==============================] - 2s 4ms/step - loss: 0.1247\n",
      "Epoch 15/30\n",
      "469/469 [==============================] - 2s 4ms/step - loss: 0.1240\n",
      "Epoch 16/30\n",
      "469/469 [==============================] - 2s 5ms/step - loss: 0.1232\n",
      "Epoch 17/30\n",
      "469/469 [==============================] - 2s 4ms/step - loss: 0.1226\n",
      "Epoch 18/30\n",
      "469/469 [==============================] - 2s 4ms/step - loss: 0.1220\n",
      "Epoch 19/30\n",
      "469/469 [==============================] - 2s 4ms/step - loss: 0.1213\n",
      "Epoch 20/30\n",
      "469/469 [==============================] - 2s 4ms/step - loss: 0.1208\n",
      "Epoch 21/30\n",
      "469/469 [==============================] - 2s 4ms/step - loss: 0.1203\n",
      "Epoch 22/30\n",
      "469/469 [==============================] - 2s 5ms/step - loss: 0.1198\n",
      "Epoch 23/30\n",
      "469/469 [==============================] - 2s 5ms/step - loss: 0.1194\n",
      "Epoch 24/30\n",
      "469/469 [==============================] - 2s 5ms/step - loss: 0.1190\n",
      "Epoch 25/30\n",
      "469/469 [==============================] - 2s 5ms/step - loss: 0.1187\n",
      "Epoch 26/30\n",
      "469/469 [==============================] - 2s 4ms/step - loss: 0.1183\n",
      "Epoch 27/30\n",
      "469/469 [==============================] - 2s 4ms/step - loss: 0.1179\n",
      "Epoch 28/30\n",
      "469/469 [==============================] - 2s 4ms/step - loss: 0.1176\n",
      "Epoch 29/30\n",
      "469/469 [==============================] - 2s 4ms/step - loss: 0.1172\n",
      "Epoch 30/30\n",
      "469/469 [==============================] - 2s 4ms/step - loss: 0.1170\n"
     ]
    }
   ],
   "source": [
    "ae = AutoEncoder(x_train,x_test)\n",
    "ae.encoder_decoder()\n",
    "ae.fit(batch_size=128,epochs=30)\n",
    "ae.save_model()"
   ]
  },
  {
   "cell_type": "code",
   "execution_count": 6,
   "metadata": {},
   "outputs": [],
   "source": [
    "encoder = load_model('./weights/encoder_weights.h5',compile=False)\n",
    "decoder = load_model('./weights/decoder_weights.h5',compile=False)"
   ]
  },
  {
   "cell_type": "code",
   "execution_count": 7,
   "metadata": {},
   "outputs": [
    {
     "name": "stdout",
     "output_type": "stream",
     "text": [
      "[[8.82942915e-01 5.70045263e-02 1.39397526e+00 1.92232764e+00\n",
      "  1.04879141e-02 2.91445136e-01 0.00000000e+00 1.27234375e+00]\n",
      " [4.25552225e+00 1.03964746e+00 3.40744638e+00 2.98287106e+00\n",
      "  4.94041395e+00 2.48773718e+00 2.88704944e+00 4.12741423e+00]\n",
      " [3.15535498e+00 3.50597405e+00 4.23183966e+00 5.63541651e-01\n",
      "  4.04093075e+00 5.64033937e+00 2.07368469e+00 3.37233710e+00]\n",
      " [1.74875855e-01 2.06282839e-01 2.53712440e+00 7.18988240e-01\n",
      "  0.00000000e+00 2.06162691e-01 1.94292977e-01 2.91666389e-03]\n",
      " [2.81759882e+00 4.33812737e-02 1.77786899e+00 3.88515306e+00\n",
      "  1.81029058e+00 5.68779469e-01 2.59013844e+00 3.41844988e+00]\n",
      " [7.73203611e+00 4.86670351e+00 3.63688707e+00 3.27670240e+00\n",
      "  5.67506456e+00 6.93289375e+00 4.90304995e+00 3.83970022e+00]\n",
      " [7.65971470e+00 4.78147173e+00 3.35546660e+00 4.21006346e+00\n",
      "  4.77973843e+00 6.94468832e+00 4.17507458e+00 4.29140234e+00]\n",
      " [1.18053591e+00 4.23571825e+00 3.92473102e+00 2.99935013e-01\n",
      "  9.21439767e-01 6.24375582e+00 6.55419886e-01 1.23201418e+00]\n",
      " [3.84042811e+00 8.96362215e-02 1.90525031e+00 4.07016134e+00\n",
      "  2.32072306e+00 4.50250894e-01 4.02700520e+00 3.15823746e+00]\n",
      " [6.79204464e+00 4.65167856e+00 3.74695349e+00 3.21015120e+00\n",
      "  5.91457462e+00 8.24709129e+00 4.64431381e+00 4.65251589e+00]\n",
      " [6.93189573e+00 4.80080700e+00 4.17129278e+00 2.94722915e+00\n",
      "  5.35004807e+00 6.40782881e+00 4.65896749e+00 3.43327332e+00]\n",
      " [2.06280160e+00 4.56429863e+00 1.97241724e+00 9.59917665e-01\n",
      "  2.35643148e-01 6.32794380e+00 9.32812095e-01 7.89009809e-01]\n",
      " [2.50764346e+00 5.62067479e-02 1.77849829e+00 1.68062925e+00\n",
      "  0.00000000e+00 1.14311695e-01 3.19979525e+00 0.00000000e+00]\n",
      " [6.68641758e+00 3.25454092e+00 1.42085695e+00 3.28504992e+00\n",
      "  2.59153628e+00 4.59586048e+00 4.45336580e+00 1.51775032e-01]\n",
      " [5.74471617e+00 3.47912216e+00 1.39453864e+00 1.18901145e+00\n",
      "  9.92359996e-01 5.55951071e+00 2.25141287e+00 0.00000000e+00]\n",
      " [4.37951311e-02 4.28341627e-02 1.41581416e+00 1.07204568e+00\n",
      "  0.00000000e+00 6.55850291e-01 2.31608167e-01 0.00000000e+00]]\n"
     ]
    }
   ],
   "source": [
    "inputs = x_test[3].reshape(1,28,28,1)\n",
    "x = encoder.predict(inputs)\n",
    "y = decoder.predict(x)\n",
    "\n",
    "# print(inputs.shape)\n",
    "print(x.reshape(16,8))\n",
    "# print(y.shape)"
   ]
  },
  {
   "cell_type": "code",
   "execution_count": 8,
   "metadata": {},
   "outputs": [
    {
     "data": {
      "text/plain": [
       "<matplotlib.image.AxesImage at 0x7f12f4b3db20>"
      ]
     },
     "execution_count": 8,
     "metadata": {},
     "output_type": "execute_result"
    },
    {
     "data": {
      "image/png": "[encoded data removed]",
      "text/plain": [
       "<Figure size 432x288 with 1 Axes>"
      ]
     },
     "metadata": {
      "needs_background": "light"
     },
     "output_type": "display_data"
    }
   ],
   "source": [
    "plt.imshow(x.reshape(16,8))"
   ]
  },
  {
   "cell_type": "code",
   "execution_count": 9,
   "metadata": {},
   "outputs": [
    {
     "data": {
      "text/plain": [
       "<matplotlib.image.AxesImage at 0x7f12f4693040>"
      ]
     },
     "execution_count": 9,
     "metadata": {},
     "output_type": "execute_result"
    },
    {
     "data": {
      "image/png": "[encoded data removed]",
      "text/plain": [
       "<Figure size 432x288 with 1 Axes>"
      ]
     },
     "metadata": {
      "needs_background": "light"
     },
     "output_type": "display_data"
    }
   ],
   "source": [
    "plt.imshow(inputs.reshape(28, 28))"
   ]
  },
  {
   "cell_type": "code",
   "execution_count": 10,
   "metadata": {},
   "outputs": [
    {
     "data": {
      "text/plain": [
       "<matplotlib.image.AxesImage at 0x7f12f465f880>"
      ]
     },
     "execution_count": 10,
     "metadata": {},
     "output_type": "execute_result"
    },
    {
     "data": {
      "image/png": "[encoded data removed]",
      "text/plain": [
       "<Figure size 432x288 with 1 Axes>"
      ]
     },
     "metadata": {
      "needs_background": "light"
     },
     "output_type": "display_data"
    }
   ],
   "source": [
    "plt.imshow(y.reshape(28, 28))"
   ]
  },
  {
   "cell_type": "code",
   "execution_count": null,
   "metadata": {},
   "outputs": [],
   "source": []
  }
 ],
 "metadata": {
  "kernelspec": {
   "display_name": "Python 3",
   "language": "python",
   "name": "python3"
  },
  "language_info": {
   "codemirror_mode": {
    "name": "ipython",
    "version": 3
   },
   "file_extension": ".py",
   "mimetype": "text/x-python",
   "name": "python",
   "nbconvert_exporter": "python",
   "pygments_lexer": "ipython3",
   "version": "3.8.5"
  }
 },
 "nbformat": 4,
 "nbformat_minor": 4
}
