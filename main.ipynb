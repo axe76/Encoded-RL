{
 "cells": [
  {
   "cell_type": "code",
   "execution_count": 1,
   "metadata": {},
   "outputs": [],
   "source": [
    "from keras.layers import Conv2D, Conv2DTranspose\n",
    "from keras.layers import Input\n",
    "from keras.layers import MaxPooling2D, UpSampling2D\n",
    "from keras.models import Model\n",
    "from keras.datasets.mnist import load_data\n",
    "from keras.models import load_model\n",
    "from keras import backend as K\n",
    "import numpy as np\n",
    "import matplotlib.pyplot as plt\n",
    "import os\n",
    "from PIL import Image, ImageOps \n",
    "from keras.preprocessing import image"
   ]
  },
  {
   "cell_type": "code",
   "execution_count": 2,
   "metadata": {},
   "outputs": [],
   "source": [
    "os.environ['TF_FORCE_GPU_ALLOW_GROWTH'] = 'true'"
   ]
  },
  {
   "cell_type": "code",
   "execution_count": 3,
   "metadata": {},
   "outputs": [
    {
     "name": "stdout",
     "output_type": "stream",
     "text": [
      "(5001, 80, 80, 1)\n",
      "(101, 80, 80, 1)\n"
     ]
    }
   ],
   "source": [
    "def remove_transparency(im, bg_colour=(255, 255, 255)):\n",
    "    # Only process if image has transparency \n",
    "    if im.mode in ('RGBA', 'LA') or (im.mode == 'P' and 'transparency' in im.info):\n",
    "        # Need to convert to RGBA if LA format due to a bug in PIL \n",
    "        alpha = im.convert('RGBA').split()[-1]\n",
    "        # Create a new background image of our matt color.\n",
    "        # Must be RGBA because paste requires both images have the same format\n",
    "        bg = Image.new(\"RGBA\", im.size, bg_colour + (255,))\n",
    "        bg.paste(im, mask=alpha)\n",
    "        return bg\n",
    "    else:\n",
    "        return im\n",
    "\n",
    "test_data = []\n",
    "train_data = []\n",
    "\n",
    "for filepath in os.listdir('env_images/'):\n",
    "    img = Image.open('env_images/'+filepath)\n",
    "    img = np.array(remove_transparency(img).convert('L'))\n",
    "    train_data.append(img)\n",
    "    \n",
    "# for filepath in os.listdir('env_images/'):\n",
    "#     img = np.array(Image.open('env_images/'+filepath).convert('L'))\n",
    "#     train_data.append(img)\n",
    "\n",
    "for filepath in os.listdir('env_images_test/'):\n",
    "    img = Image.open('env_images_test/'+filepath)\n",
    "    img = np.array(remove_transparency(img).convert('L'))\n",
    "    test_data.append(img)\n",
    "\n",
    "# for filepath in os.listdir('env_images_test/'):\n",
    "#     img = np.array(Image.open('env_images_test/'+filepath).convert('L'))\n",
    "#     test_data.append(img)\n",
    "    \n",
    "xtrain = np.array(train_data)\n",
    "xtest = np.array(test_data)\n",
    "# print(xtrain.shape)\n",
    "\n",
    "xtrain = xtrain.astype('float32') / 255\n",
    "xtest = xtest.astype('float32') / 255 \n",
    "# print(xtrain.shape)\n",
    "\n",
    "x_train = np.reshape(xtrain, (len(xtrain), 80, 80, 1)) \n",
    "x_test = np.reshape(xtest, (len(xtest), 80, 80, 1)) \n",
    " \n",
    "print(x_train.shape) \n",
    "print(x_test.shape)\n",
    "\n"
   ]
  },
  {
   "cell_type": "code",
   "execution_count": 4,
   "metadata": {},
   "outputs": [],
   "source": [
    "class AutoEncoder():\n",
    "    def __init__(self,x_train,x_test):\n",
    "        self.x_train = x_train\n",
    "        self.x_test = x_test\n",
    "        \n",
    "    def _encoder(self):\n",
    "        input_img = Input(shape=(80, 80,1))\n",
    "        enc_conv1 = Conv2D(12, (3, 3), activation='relu', padding='same')(input_img)\n",
    "        enc_pool1 = MaxPooling2D((2, 2), padding='same')(enc_conv1)\n",
    "        enc_conv2 = Conv2D(8, (4, 4), activation='relu', padding='same')(enc_pool1)\n",
    "        enc_output = MaxPooling2D((4, 4), padding='same')(enc_conv2)\n",
    "        self.shape = K.int_shape(enc_output)\n",
    "        model = Model(input_img, enc_output)\n",
    "        model.summary()\n",
    "        self.encoder = model\n",
    "        return model\n",
    "\n",
    "    def _decoder(self):\n",
    "        dec_input = Input(shape=(10, 10, 8))   \n",
    "        dec_conv2 = Conv2DTranspose(8, (4, 4), activation='relu', padding='same')(dec_input)\n",
    "        t = UpSampling2D((4, 4))(dec_conv2)\n",
    "        dec_conv3 = Conv2DTranspose(12, (3, 3), activation='relu', padding='same')(t)\n",
    "        dec_upsample2 = UpSampling2D((2, 2))(dec_conv3)\n",
    "        dec_output = Conv2DTranspose(1, (3, 3), activation='sigmoid', padding='same')(dec_upsample2)\n",
    "        model = Model(dec_input, dec_output)\n",
    "        model.summary()\n",
    "        self.decoder = model\n",
    "        return model\n",
    "\n",
    "    def encoder_decoder(self):\n",
    "        enc = self._encoder()\n",
    "        dec = self._decoder()\n",
    "        inputs = Input(shape=(80,80,1))\n",
    "        enc_out = enc(inputs)\n",
    "        dec_out = dec(enc_out)\n",
    "        model = Model(inputs, dec_out)\n",
    "        model.summary()\n",
    "        self.model = model\n",
    "        return model\n",
    "\n",
    "    def fit(self, batch_size=128, epochs=20):\n",
    "#         self.model.compile(optimizer='nadam',loss='binary_crossentropy')\n",
    "        self.model.compile(optimizer='adam',loss='mse',metrics=['accuracy'])\n",
    "        self.model.fit(self.x_train, self.x_train, epochs=epochs, batch_size=batch_size, validation_data = (self.x_test,self.x_test))\n",
    "\n",
    "    def save_model(self):\n",
    "        self.encoder.save('./weights/encoder_weights.h5')\n",
    "        self.decoder.save('./weights/decoder_weights.h5')\n",
    "        self.model.save('./weights/autoencoder_weights.h5')\n"
   ]
  },
  {
   "cell_type": "code",
   "execution_count": 5,
   "metadata": {},
   "outputs": [
    {
     "name": "stdout",
     "output_type": "stream",
     "text": [
      "Model: \"functional_1\"\n",
      "_________________________________________________________________\n",
      "Layer (type)                 Output Shape              Param #   \n",
      "=================================================================\n",
      "input_1 (InputLayer)         [(None, 80, 80, 1)]       0         \n",
      "_________________________________________________________________\n",
      "conv2d (Conv2D)              (None, 80, 80, 12)        120       \n",
      "_________________________________________________________________\n",
      "max_pooling2d (MaxPooling2D) (None, 40, 40, 12)        0         \n",
      "_________________________________________________________________\n",
      "conv2d_1 (Conv2D)            (None, 40, 40, 8)         1544      \n",
      "_________________________________________________________________\n",
      "max_pooling2d_1 (MaxPooling2 (None, 10, 10, 8)         0         \n",
      "=================================================================\n",
      "Total params: 1,664\n",
      "Trainable params: 1,664\n",
      "Non-trainable params: 0\n",
      "_________________________________________________________________\n",
      "Model: \"functional_3\"\n",
      "_________________________________________________________________\n",
      "Layer (type)                 Output Shape              Param #   \n",
      "=================================================================\n",
      "input_2 (InputLayer)         [(None, 10, 10, 8)]       0         \n",
      "_________________________________________________________________\n",
      "conv2d_transpose (Conv2DTran (None, 10, 10, 8)         1032      \n",
      "_________________________________________________________________\n",
      "up_sampling2d (UpSampling2D) (None, 40, 40, 8)         0         \n",
      "_________________________________________________________________\n",
      "conv2d_transpose_1 (Conv2DTr (None, 40, 40, 12)        876       \n",
      "_________________________________________________________________\n",
      "up_sampling2d_1 (UpSampling2 (None, 80, 80, 12)        0         \n",
      "_________________________________________________________________\n",
      "conv2d_transpose_2 (Conv2DTr (None, 80, 80, 1)         109       \n",
      "=================================================================\n",
      "Total params: 2,017\n",
      "Trainable params: 2,017\n",
      "Non-trainable params: 0\n",
      "_________________________________________________________________\n",
      "Model: \"functional_5\"\n",
      "_________________________________________________________________\n",
      "Layer (type)                 Output Shape              Param #   \n",
      "=================================================================\n",
      "input_3 (InputLayer)         [(None, 80, 80, 1)]       0         \n",
      "_________________________________________________________________\n",
      "functional_1 (Functional)    (None, 10, 10, 8)         1664      \n",
      "_________________________________________________________________\n",
      "functional_3 (Functional)    (None, 80, 80, 1)         2017      \n",
      "=================================================================\n",
      "Total params: 3,681\n",
      "Trainable params: 3,681\n",
      "Non-trainable params: 0\n",
      "_________________________________________________________________\n",
      "Epoch 1/100\n",
      "40/40 [==============================] - 1s 31ms/step - loss: 0.0786 - accuracy: 0.0000e+00 - val_loss: 0.0132 - val_accuracy: 0.0000e+00\n",
      "Epoch 2/100\n",
      "40/40 [==============================] - 1s 19ms/step - loss: 0.0075 - accuracy: 0.0000e+00 - val_loss: 0.0064 - val_accuracy: 0.0000e+00\n",
      "Epoch 3/100\n",
      "40/40 [==============================] - 1s 19ms/step - loss: 0.0033 - accuracy: 0.0000e+00 - val_loss: 0.0050 - val_accuracy: 0.0000e+00\n",
      "Epoch 4/100\n",
      "40/40 [==============================] - 1s 19ms/step - loss: 0.0022 - accuracy: 0.0000e+00 - val_loss: 0.0043 - val_accuracy: 0.0000e+00\n",
      "Epoch 5/100\n",
      "40/40 [==============================] - 1s 19ms/step - loss: 0.0018 - accuracy: 0.0000e+00 - val_loss: 0.0034 - val_accuracy: 0.0000e+00\n",
      "Epoch 6/100\n",
      "40/40 [==============================] - 1s 19ms/step - loss: 0.0014 - accuracy: 0.0000e+00 - val_loss: 0.0024 - val_accuracy: 0.0000e+00\n",
      "Epoch 7/100\n",
      "40/40 [==============================] - 1s 19ms/step - loss: 0.0012 - accuracy: 0.0000e+00 - val_loss: 0.0020 - val_accuracy: 0.0000e+00\n",
      "Epoch 8/100\n",
      "40/40 [==============================] - 1s 19ms/step - loss: 0.0010 - accuracy: 0.0000e+00 - val_loss: 0.0017 - val_accuracy: 0.0000e+00\n",
      "Epoch 9/100\n",
      "40/40 [==============================] - 1s 19ms/step - loss: 8.9863e-04 - accuracy: 0.0000e+00 - val_loss: 0.0015 - val_accuracy: 0.0000e+00\n",
      "Epoch 10/100\n",
      "40/40 [==============================] - 1s 19ms/step - loss: 7.7362e-04 - accuracy: 0.0000e+00 - val_loss: 0.0013 - val_accuracy: 0.0000e+00\n",
      "Epoch 11/100\n",
      "40/40 [==============================] - 1s 19ms/step - loss: 6.6581e-04 - accuracy: 0.0000e+00 - val_loss: 0.0012 - val_accuracy: 0.0000e+00\n",
      "Epoch 12/100\n",
      "40/40 [==============================] - 1s 19ms/step - loss: 5.7849e-04 - accuracy: 0.0000e+00 - val_loss: 0.0011 - val_accuracy: 0.0000e+00\n",
      "Epoch 13/100\n",
      "40/40 [==============================] - 1s 19ms/step - loss: 5.0894e-04 - accuracy: 0.0000e+00 - val_loss: 0.0010 - val_accuracy: 0.0000e+00\n",
      "Epoch 14/100\n",
      "40/40 [==============================] - 1s 21ms/step - loss: 4.5077e-04 - accuracy: 0.0000e+00 - val_loss: 9.8343e-04 - val_accuracy: 0.0000e+00\n",
      "Epoch 15/100\n",
      "40/40 [==============================] - 1s 21ms/step - loss: 4.0247e-04 - accuracy: 0.0000e+00 - val_loss: 9.5216e-04 - val_accuracy: 0.0000e+00\n",
      "Epoch 16/100\n",
      "40/40 [==============================] - 1s 19ms/step - loss: 3.6708e-04 - accuracy: 0.0000e+00 - val_loss: 8.8890e-04 - val_accuracy: 0.0000e+00\n",
      "Epoch 17/100\n",
      "40/40 [==============================] - 1s 19ms/step - loss: 3.3509e-04 - accuracy: 0.0000e+00 - val_loss: 8.5261e-04 - val_accuracy: 0.0000e+00\n",
      "Epoch 18/100\n",
      "40/40 [==============================] - 1s 19ms/step - loss: 3.1167e-04 - accuracy: 0.0000e+00 - val_loss: 8.1689e-04 - val_accuracy: 0.0000e+00\n",
      "Epoch 19/100\n",
      "40/40 [==============================] - 1s 19ms/step - loss: 2.9147e-04 - accuracy: 0.0000e+00 - val_loss: 7.8211e-04 - val_accuracy: 0.0000e+00\n",
      "Epoch 20/100\n",
      "40/40 [==============================] - 1s 19ms/step - loss: 2.7487e-04 - accuracy: 0.0000e+00 - val_loss: 7.4944e-04 - val_accuracy: 0.0000e+00\n",
      "Epoch 21/100\n",
      "40/40 [==============================] - 1s 19ms/step - loss: 2.5979e-04 - accuracy: 0.0000e+00 - val_loss: 7.2249e-04 - val_accuracy: 0.0000e+00\n",
      "Epoch 22/100\n",
      "40/40 [==============================] - 1s 20ms/step - loss: 2.4369e-04 - accuracy: 0.0000e+00 - val_loss: 6.9553e-04 - val_accuracy: 0.0000e+00\n",
      "Epoch 23/100\n",
      "40/40 [==============================] - 1s 21ms/step - loss: 2.3051e-04 - accuracy: 0.0000e+00 - val_loss: 6.6949e-04 - val_accuracy: 0.0000e+00\n",
      "Epoch 24/100\n",
      "40/40 [==============================] - 1s 22ms/step - loss: 2.1697e-04 - accuracy: 0.0000e+00 - val_loss: 6.4934e-04 - val_accuracy: 0.0000e+00\n",
      "Epoch 25/100\n",
      "40/40 [==============================] - 1s 21ms/step - loss: 2.0615e-04 - accuracy: 0.0000e+00 - val_loss: 6.3116e-04 - val_accuracy: 0.0000e+00\n",
      "Epoch 26/100\n",
      "40/40 [==============================] - 1s 20ms/step - loss: 1.9603e-04 - accuracy: 0.0000e+00 - val_loss: 6.1649e-04 - val_accuracy: 0.0000e+00\n",
      "Epoch 27/100\n",
      "40/40 [==============================] - 1s 19ms/step - loss: 1.8778e-04 - accuracy: 0.0000e+00 - val_loss: 6.0353e-04 - val_accuracy: 0.0000e+00\n",
      "Epoch 28/100\n",
      "40/40 [==============================] - 1s 19ms/step - loss: 1.7936e-04 - accuracy: 0.0000e+00 - val_loss: 5.9142e-04 - val_accuracy: 0.0000e+00\n",
      "Epoch 29/100\n",
      "40/40 [==============================] - 1s 19ms/step - loss: 1.7209e-04 - accuracy: 0.0000e+00 - val_loss: 5.8182e-04 - val_accuracy: 0.0000e+00\n",
      "Epoch 30/100\n",
      "40/40 [==============================] - 1s 19ms/step - loss: 1.6604e-04 - accuracy: 0.0000e+00 - val_loss: 5.7093e-04 - val_accuracy: 0.0000e+00\n",
      "Epoch 31/100\n",
      "40/40 [==============================] - 1s 19ms/step - loss: 1.5982e-04 - accuracy: 0.0000e+00 - val_loss: 5.6108e-04 - val_accuracy: 0.0000e+00\n",
      "Epoch 32/100\n",
      "40/40 [==============================] - 1s 19ms/step - loss: 1.5369e-04 - accuracy: 0.0000e+00 - val_loss: 5.5302e-04 - val_accuracy: 0.0000e+00\n",
      "Epoch 33/100\n",
      "40/40 [==============================] - 1s 19ms/step - loss: 1.4884e-04 - accuracy: 0.0000e+00 - val_loss: 5.4455e-04 - val_accuracy: 0.0000e+00\n",
      "Epoch 34/100\n",
      "40/40 [==============================] - 1s 19ms/step - loss: 1.4442e-04 - accuracy: 0.0000e+00 - val_loss: 5.3945e-04 - val_accuracy: 0.0000e+00\n"
     ]
    },
    {
     "name": "stdout",
     "output_type": "stream",
     "text": [
      "Epoch 35/100\n",
      "40/40 [==============================] - 1s 19ms/step - loss: 1.4044e-04 - accuracy: 0.0000e+00 - val_loss: 5.3146e-04 - val_accuracy: 0.0000e+00\n",
      "Epoch 36/100\n",
      "40/40 [==============================] - 1s 19ms/step - loss: 1.3667e-04 - accuracy: 0.0000e+00 - val_loss: 5.2859e-04 - val_accuracy: 0.0000e+00\n",
      "Epoch 37/100\n",
      "40/40 [==============================] - 1s 21ms/step - loss: 1.3284e-04 - accuracy: 0.0000e+00 - val_loss: 5.2257e-04 - val_accuracy: 0.0000e+00\n",
      "Epoch 38/100\n",
      "40/40 [==============================] - 1s 19ms/step - loss: 1.2992e-04 - accuracy: 0.0000e+00 - val_loss: 5.1523e-04 - val_accuracy: 0.0000e+00\n",
      "Epoch 39/100\n",
      "40/40 [==============================] - 1s 22ms/step - loss: 1.2662e-04 - accuracy: 0.0000e+00 - val_loss: 5.1054e-04 - val_accuracy: 0.0000e+00\n",
      "Epoch 40/100\n",
      "40/40 [==============================] - 1s 20ms/step - loss: 1.2445e-04 - accuracy: 0.0000e+00 - val_loss: 5.0606e-04 - val_accuracy: 0.0000e+00\n",
      "Epoch 41/100\n",
      "40/40 [==============================] - 1s 19ms/step - loss: 1.2155e-04 - accuracy: 0.0000e+00 - val_loss: 4.9945e-04 - val_accuracy: 0.0000e+00\n",
      "Epoch 42/100\n",
      "40/40 [==============================] - 1s 19ms/step - loss: 1.1848e-04 - accuracy: 0.0000e+00 - val_loss: 4.9433e-04 - val_accuracy: 0.0000e+00\n",
      "Epoch 43/100\n",
      "40/40 [==============================] - 1s 19ms/step - loss: 1.1621e-04 - accuracy: 0.0000e+00 - val_loss: 4.8806e-04 - val_accuracy: 0.0000e+00\n",
      "Epoch 44/100\n",
      "40/40 [==============================] - 1s 19ms/step - loss: 1.1456e-04 - accuracy: 0.0000e+00 - val_loss: 4.8327e-04 - val_accuracy: 0.0000e+00\n",
      "Epoch 45/100\n",
      "40/40 [==============================] - 1s 19ms/step - loss: 1.1177e-04 - accuracy: 0.0000e+00 - val_loss: 4.7656e-04 - val_accuracy: 0.0000e+00\n",
      "Epoch 46/100\n",
      "40/40 [==============================] - 1s 19ms/step - loss: 1.0997e-04 - accuracy: 0.0000e+00 - val_loss: 4.7314e-04 - val_accuracy: 0.0000e+00\n",
      "Epoch 47/100\n",
      "40/40 [==============================] - 1s 19ms/step - loss: 1.0823e-04 - accuracy: 0.0000e+00 - val_loss: 4.6871e-04 - val_accuracy: 0.0000e+00\n",
      "Epoch 48/100\n",
      "40/40 [==============================] - 1s 19ms/step - loss: 1.0856e-04 - accuracy: 0.0000e+00 - val_loss: 4.6124e-04 - val_accuracy: 0.0000e+00\n",
      "Epoch 49/100\n",
      "40/40 [==============================] - 1s 19ms/step - loss: 1.0364e-04 - accuracy: 0.0000e+00 - val_loss: 4.5614e-04 - val_accuracy: 0.0000e+00\n",
      "Epoch 50/100\n",
      "40/40 [==============================] - 1s 19ms/step - loss: 1.0198e-04 - accuracy: 0.0000e+00 - val_loss: 4.5082e-04 - val_accuracy: 0.0000e+00\n",
      "Epoch 51/100\n",
      "40/40 [==============================] - 1s 19ms/step - loss: 1.0032e-04 - accuracy: 0.0000e+00 - val_loss: 4.4548e-04 - val_accuracy: 0.0000e+00\n",
      "Epoch 52/100\n",
      "40/40 [==============================] - 1s 19ms/step - loss: 9.8920e-05 - accuracy: 0.0000e+00 - val_loss: 4.4138e-04 - val_accuracy: 0.0000e+00\n",
      "Epoch 53/100\n",
      "40/40 [==============================] - 1s 19ms/step - loss: 9.6824e-05 - accuracy: 0.0000e+00 - val_loss: 4.3605e-04 - val_accuracy: 0.0000e+00\n",
      "Epoch 54/100\n",
      "40/40 [==============================] - 1s 19ms/step - loss: 9.5651e-05 - accuracy: 0.0000e+00 - val_loss: 4.3055e-04 - val_accuracy: 0.0000e+00\n",
      "Epoch 55/100\n",
      "40/40 [==============================] - 1s 19ms/step - loss: 9.3795e-05 - accuracy: 0.0000e+00 - val_loss: 4.2460e-04 - val_accuracy: 0.0000e+00\n",
      "Epoch 56/100\n",
      "40/40 [==============================] - 1s 19ms/step - loss: 9.2827e-05 - accuracy: 0.0000e+00 - val_loss: 4.1969e-04 - val_accuracy: 0.0000e+00\n",
      "Epoch 57/100\n",
      "40/40 [==============================] - 1s 19ms/step - loss: 9.0982e-05 - accuracy: 0.0000e+00 - val_loss: 4.1235e-04 - val_accuracy: 0.0000e+00\n",
      "Epoch 58/100\n",
      "40/40 [==============================] - 1s 21ms/step - loss: 8.8903e-05 - accuracy: 0.0000e+00 - val_loss: 4.1230e-04 - val_accuracy: 0.0000e+00\n",
      "Epoch 59/100\n",
      "40/40 [==============================] - 1s 20ms/step - loss: 8.8253e-05 - accuracy: 0.0000e+00 - val_loss: 4.0350e-04 - val_accuracy: 0.0000e+00\n",
      "Epoch 60/100\n",
      "40/40 [==============================] - 1s 19ms/step - loss: 8.6913e-05 - accuracy: 0.0000e+00 - val_loss: 4.0021e-04 - val_accuracy: 0.0000e+00\n",
      "Epoch 61/100\n",
      "40/40 [==============================] - 1s 19ms/step - loss: 8.4667e-05 - accuracy: 0.0000e+00 - val_loss: 3.9581e-04 - val_accuracy: 0.0000e+00\n",
      "Epoch 62/100\n",
      "40/40 [==============================] - 1s 19ms/step - loss: 8.4442e-05 - accuracy: 0.0000e+00 - val_loss: 3.9326e-04 - val_accuracy: 0.0000e+00\n",
      "Epoch 63/100\n",
      "40/40 [==============================] - 1s 19ms/step - loss: 8.5268e-05 - accuracy: 0.0000e+00 - val_loss: 4.0086e-04 - val_accuracy: 0.0000e+00\n",
      "Epoch 64/100\n",
      "40/40 [==============================] - 1s 19ms/step - loss: 8.2544e-05 - accuracy: 0.0000e+00 - val_loss: 3.8638e-04 - val_accuracy: 0.0000e+00\n",
      "Epoch 65/100\n",
      "40/40 [==============================] - 1s 19ms/step - loss: 7.9864e-05 - accuracy: 0.0000e+00 - val_loss: 3.8186e-04 - val_accuracy: 0.0000e+00\n",
      "Epoch 66/100\n",
      "40/40 [==============================] - 1s 19ms/step - loss: 7.8885e-05 - accuracy: 0.0000e+00 - val_loss: 3.8095e-04 - val_accuracy: 0.0000e+00\n",
      "Epoch 67/100\n",
      "40/40 [==============================] - 1s 19ms/step - loss: 7.8455e-05 - accuracy: 0.0000e+00 - val_loss: 3.7643e-04 - val_accuracy: 0.0000e+00\n",
      "Epoch 68/100\n",
      "40/40 [==============================] - 1s 19ms/step - loss: 7.7254e-05 - accuracy: 0.0000e+00 - val_loss: 3.7435e-04 - val_accuracy: 0.0000e+00\n",
      "Epoch 69/100\n",
      "40/40 [==============================] - 1s 19ms/step - loss: 7.6774e-05 - accuracy: 0.0000e+00 - val_loss: 3.7163e-04 - val_accuracy: 0.0000e+00\n",
      "Epoch 70/100\n",
      "40/40 [==============================] - 1s 19ms/step - loss: 7.5065e-05 - accuracy: 0.0000e+00 - val_loss: 3.6747e-04 - val_accuracy: 0.0000e+00\n",
      "Epoch 71/100\n",
      "40/40 [==============================] - 1s 19ms/step - loss: 7.5615e-05 - accuracy: 0.0000e+00 - val_loss: 3.6462e-04 - val_accuracy: 0.0000e+00\n",
      "Epoch 72/100\n",
      "40/40 [==============================] - 1s 19ms/step - loss: 7.5025e-05 - accuracy: 0.0000e+00 - val_loss: 3.6339e-04 - val_accuracy: 0.0000e+00\n",
      "Epoch 73/100\n",
      "40/40 [==============================] - 1s 19ms/step - loss: 7.3303e-05 - accuracy: 0.0000e+00 - val_loss: 3.6144e-04 - val_accuracy: 0.0000e+00\n",
      "Epoch 74/100\n",
      "40/40 [==============================] - 1s 19ms/step - loss: 7.2064e-05 - accuracy: 0.0000e+00 - val_loss: 3.5982e-04 - val_accuracy: 0.0000e+00\n",
      "Epoch 75/100\n",
      "40/40 [==============================] - 1s 25ms/step - loss: 7.2739e-05 - accuracy: 0.0000e+00 - val_loss: 5.4406e-04 - val_accuracy: 0.0000e+00\n",
      "Epoch 76/100\n",
      "40/40 [==============================] - 1s 25ms/step - loss: 1.2679e-04 - accuracy: 0.0000e+00 - val_loss: 3.5729e-04 - val_accuracy: 0.0000e+00\n",
      "Epoch 77/100\n",
      "40/40 [==============================] - 1s 25ms/step - loss: 7.1601e-05 - accuracy: 0.0000e+00 - val_loss: 3.5555e-04 - val_accuracy: 0.0000e+00\n",
      "Epoch 78/100\n",
      "40/40 [==============================] - 1s 20ms/step - loss: 6.9932e-05 - accuracy: 0.0000e+00 - val_loss: 3.5422e-04 - val_accuracy: 0.0000e+00\n",
      "Epoch 79/100\n",
      "40/40 [==============================] - 1s 19ms/step - loss: 6.9471e-05 - accuracy: 0.0000e+00 - val_loss: 3.5412e-04 - val_accuracy: 0.0000e+00\n",
      "Epoch 80/100\n",
      "40/40 [==============================] - 1s 19ms/step - loss: 6.8865e-05 - accuracy: 0.0000e+00 - val_loss: 3.5192e-04 - val_accuracy: 0.0000e+00\n",
      "Epoch 81/100\n",
      "40/40 [==============================] - 1s 19ms/step - loss: 6.8428e-05 - accuracy: 0.0000e+00 - val_loss: 3.5148e-04 - val_accuracy: 0.0000e+00\n",
      "Epoch 82/100\n",
      "40/40 [==============================] - 1s 19ms/step - loss: 6.7984e-05 - accuracy: 0.0000e+00 - val_loss: 3.5075e-04 - val_accuracy: 0.0000e+00\n",
      "Epoch 83/100\n",
      "40/40 [==============================] - 1s 20ms/step - loss: 6.7563e-05 - accuracy: 0.0000e+00 - val_loss: 3.5106e-04 - val_accuracy: 0.0000e+00\n",
      "Epoch 84/100\n",
      "40/40 [==============================] - 1s 19ms/step - loss: 6.7188e-05 - accuracy: 0.0000e+00 - val_loss: 3.4898e-04 - val_accuracy: 0.0000e+00\n",
      "Epoch 85/100\n",
      "40/40 [==============================] - 1s 19ms/step - loss: 6.6819e-05 - accuracy: 0.0000e+00 - val_loss: 3.4853e-04 - val_accuracy: 0.0000e+00\n",
      "Epoch 86/100\n"
     ]
    },
    {
     "name": "stdout",
     "output_type": "stream",
     "text": [
      "40/40 [==============================] - 1s 19ms/step - loss: 6.6525e-05 - accuracy: 0.0000e+00 - val_loss: 3.4907e-04 - val_accuracy: 0.0000e+00\n",
      "Epoch 87/100\n",
      "40/40 [==============================] - 1s 19ms/step - loss: 6.6188e-05 - accuracy: 0.0000e+00 - val_loss: 3.4678e-04 - val_accuracy: 0.0000e+00\n",
      "Epoch 88/100\n",
      "40/40 [==============================] - 1s 19ms/step - loss: 6.5815e-05 - accuracy: 0.0000e+00 - val_loss: 3.5046e-04 - val_accuracy: 0.0000e+00\n",
      "Epoch 89/100\n",
      "40/40 [==============================] - 1s 19ms/step - loss: 6.6237e-05 - accuracy: 0.0000e+00 - val_loss: 3.4704e-04 - val_accuracy: 0.0000e+00\n",
      "Epoch 90/100\n",
      "40/40 [==============================] - 1s 19ms/step - loss: 6.5308e-05 - accuracy: 0.0000e+00 - val_loss: 3.4686e-04 - val_accuracy: 0.0000e+00\n",
      "Epoch 91/100\n",
      "40/40 [==============================] - 1s 19ms/step - loss: 6.4940e-05 - accuracy: 0.0000e+00 - val_loss: 3.4654e-04 - val_accuracy: 0.0000e+00\n",
      "Epoch 92/100\n",
      "40/40 [==============================] - 1s 20ms/step - loss: 6.4781e-05 - accuracy: 0.0000e+00 - val_loss: 3.4589e-04 - val_accuracy: 0.0000e+00\n",
      "Epoch 93/100\n",
      "40/40 [==============================] - 1s 21ms/step - loss: 6.4659e-05 - accuracy: 0.0000e+00 - val_loss: 3.4624e-04 - val_accuracy: 0.0000e+00\n",
      "Epoch 94/100\n",
      "40/40 [==============================] - 1s 20ms/step - loss: 6.4223e-05 - accuracy: 0.0000e+00 - val_loss: 3.4388e-04 - val_accuracy: 0.0000e+00\n",
      "Epoch 95/100\n",
      "40/40 [==============================] - 1s 20ms/step - loss: 6.3973e-05 - accuracy: 0.0000e+00 - val_loss: 3.4294e-04 - val_accuracy: 0.0000e+00\n",
      "Epoch 96/100\n",
      "40/40 [==============================] - 1s 20ms/step - loss: 6.3604e-05 - accuracy: 0.0000e+00 - val_loss: 3.4285e-04 - val_accuracy: 0.0000e+00\n",
      "Epoch 97/100\n",
      "40/40 [==============================] - 1s 19ms/step - loss: 6.3243e-05 - accuracy: 0.0000e+00 - val_loss: 3.4152e-04 - val_accuracy: 0.0000e+00\n",
      "Epoch 98/100\n",
      "40/40 [==============================] - 1s 19ms/step - loss: 6.2961e-05 - accuracy: 0.0000e+00 - val_loss: 3.4164e-04 - val_accuracy: 0.0000e+00\n",
      "Epoch 99/100\n",
      "40/40 [==============================] - 1s 20ms/step - loss: 6.2654e-05 - accuracy: 0.0000e+00 - val_loss: 3.4082e-04 - val_accuracy: 0.0000e+00\n",
      "Epoch 100/100\n",
      "40/40 [==============================] - 1s 19ms/step - loss: 6.2529e-05 - accuracy: 0.0000e+00 - val_loss: 3.4117e-04 - val_accuracy: 0.0000e+00\n"
     ]
    }
   ],
   "source": [
    "ae = AutoEncoder(x_train,x_test)\n",
    "ae.encoder_decoder()\n",
    "ae.fit(batch_size=128,epochs=100)\n",
    "ae.save_model()"
   ]
  },
  {
   "cell_type": "code",
   "execution_count": 6,
   "metadata": {},
   "outputs": [],
   "source": [
    "encoder = load_model('./weights/encoder_weights.h5',compile=False)\n",
    "decoder = load_model('./weights/decoder_weights.h5',compile=False)"
   ]
  },
  {
   "cell_type": "code",
   "execution_count": 7,
   "metadata": {},
   "outputs": [
    {
     "name": "stdout",
     "output_type": "stream",
     "text": [
      "(1, 80, 80, 1)\n",
      "(1, 10, 10, 8)\n",
      "(1, 80, 80, 1)\n"
     ]
    }
   ],
   "source": [
    "\n",
    "inputs = x_test[50].reshape(1,80,80,1)\n",
    "x = encoder.predict(inputs)\n",
    "y = decoder.predict(x)\n",
    "\n",
    "print(inputs.shape)\n",
    "print(x.shape)\n",
    "print(y.shape)"
   ]
  },
  {
   "cell_type": "code",
   "execution_count": 8,
   "metadata": {},
   "outputs": [
    {
     "data": {
      "text/plain": [
       "<matplotlib.image.AxesImage at 0x7f95ec7eb3d0>"
      ]
     },
     "execution_count": 8,
     "metadata": {},
     "output_type": "execute_result"
    },
    {
     "data": {
      "image/png": "[encoded data removed]",
      "text/plain": [
       "<Figure size 432x288 with 1 Axes>"
      ]
     },
     "metadata": {
      "needs_background": "light"
     },
     "output_type": "display_data"
    }
   ],
   "source": [
    "plt.imshow(inputs.reshape(80, 80),cmap='gray')"
   ]
  },
  {
   "cell_type": "code",
   "execution_count": 9,
   "metadata": {},
   "outputs": [
    {
     "data": {
      "text/plain": [
       "<matplotlib.image.AxesImage at 0x7f95ec80ce80>"
      ]
     },
     "execution_count": 9,
     "metadata": {},
     "output_type": "execute_result"
    },
    {
     "data": {
      "image/png": "[encoded data removed]",
      "text/plain": [
       "<Figure size 432x288 with 1 Axes>"
      ]
     },
     "metadata": {
      "needs_background": "light"
     },
     "output_type": "display_data"
    }
   ],
   "source": [
    "plt.imshow(x.reshape(10,80),cmap='gray')"
   ]
  },
  {
   "cell_type": "code",
   "execution_count": 10,
   "metadata": {},
   "outputs": [
    {
     "data": {
      "text/plain": [
       "<matplotlib.image.AxesImage at 0x7f95ec3519a0>"
      ]
     },
     "execution_count": 10,
     "metadata": {},
     "output_type": "execute_result"
    },
    {
     "data": {
      "image/png": "[encoded data removed]",
      "text/plain": [
       "<Figure size 432x288 with 1 Axes>"
      ]
     },
     "metadata": {
      "needs_background": "light"
     },
     "output_type": "display_data"
    }
   ],
   "source": [
    "plt.imshow(y.reshape(80, 80),cmap='gray')"
   ]
  },
  {
   "cell_type": "code",
   "execution_count": null,
   "metadata": {},
   "outputs": [],
   "source": []
  }
 ],
 "metadata": {
  "kernelspec": {
   "display_name": "Python 3",
   "language": "python",
   "name": "python3"
  },
  "language_info": {
   "codemirror_mode": {
    "name": "ipython",
    "version": 3
   },
   "file_extension": ".py",
   "mimetype": "text/x-python",
   "name": "python",
   "nbconvert_exporter": "python",
   "pygments_lexer": "ipython3",
   "version": "3.8.5"
  }
 },
 "nbformat": 4,
 "nbformat_minor": 4
}
