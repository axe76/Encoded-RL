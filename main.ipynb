{
 "cells": [
  {
   "cell_type": "code",
   "execution_count": 1,
   "metadata": {},
   "outputs": [],
   "source": [
    "from keras.layers import Conv2D, Conv2DTranspose\n",
    "from keras.layers import Input\n",
    "from keras.layers import MaxPooling2D, UpSampling2D\n",
    "from keras.models import Model\n",
    "from keras.datasets.mnist import load_data\n",
    "from keras.models import load_model\n",
    "from keras import backend as K\n",
    "import numpy as np\n",
    "import matplotlib.pyplot as plt\n",
    "import os\n",
    "from PIL import Image, ImageOps \n",
    "from keras.preprocessing import image"
   ]
  },
  {
   "cell_type": "code",
   "execution_count": 2,
   "metadata": {},
   "outputs": [],
   "source": [
    "os.environ['TF_FORCE_GPU_ALLOW_GROWTH'] = 'true'"
   ]
  },
  {
   "cell_type": "code",
   "execution_count": 3,
   "metadata": {},
   "outputs": [
    {
     "name": "stdout",
     "output_type": "stream",
     "text": [
      "(5001, 80, 80, 1)\n",
      "(101, 80, 80, 1)\n"
     ]
    }
   ],
   "source": [
    "def remove_transparency(im, bg_colour=(255, 255, 255)):\n",
    "    # Only process if image has transparency \n",
    "    if im.mode in ('RGBA', 'LA') or (im.mode == 'P' and 'transparency' in im.info):\n",
    "        # Need to convert to RGBA if LA format due to a bug in PIL \n",
    "        alpha = im.convert('RGBA').split()[-1]\n",
    "        # Create a new background image of our matt color.\n",
    "        # Must be RGBA because paste requires both images have the same format\n",
    "        bg = Image.new(\"RGBA\", im.size, bg_colour + (255,))\n",
    "        bg.paste(im, mask=alpha)\n",
    "        return bg\n",
    "    else:\n",
    "        return im\n",
    "\n",
    "test_data = []\n",
    "train_data = []\n",
    "\n",
    "for filepath in os.listdir('env_images/'):\n",
    "    img = Image.open('env_images/'+filepath)\n",
    "    img = np.array(remove_transparency(img).convert('L'))\n",
    "    train_data.append(img)\n",
    "    \n",
    "# for filepath in os.listdir('env_images/'):\n",
    "#     img = np.array(Image.open('env_images/'+filepath).convert('L'))\n",
    "#     train_data.append(img)\n",
    "\n",
    "for filepath in os.listdir('env_images_test/'):\n",
    "    img = Image.open('env_images_test/'+filepath)\n",
    "    img = np.array(remove_transparency(img).convert('L'))\n",
    "    test_data.append(img)\n",
    "\n",
    "# for filepath in os.listdir('env_images_test/'):\n",
    "#     img = np.array(Image.open('env_images_test/'+filepath).convert('L'))\n",
    "#     test_data.append(img)\n",
    "    \n",
    "xtrain = np.array(train_data)\n",
    "xtest = np.array(test_data)\n",
    "# print(xtrain.shape)\n",
    "\n",
    "xtrain = xtrain.astype('float32') / 255\n",
    "xtest = xtest.astype('float32') / 255 \n",
    "# print(xtrain.shape)\n",
    "\n",
    "x_train = np.reshape(xtrain, (len(xtrain), 80, 80, 1)) \n",
    "x_test = np.reshape(xtest, (len(xtest), 80, 80, 1)) \n",
    " \n",
    "print(x_train.shape) \n",
    "print(x_test.shape)\n",
    "\n"
   ]
  },
  {
   "cell_type": "code",
   "execution_count": 4,
   "metadata": {},
   "outputs": [],
   "source": [
    "class AutoEncoder():\n",
    "    def __init__(self,x_train,x_test):\n",
    "        self.x_train = x_train\n",
    "        self.x_test = x_test\n",
    "        \n",
    "    def _encoder(self):\n",
    "        input_img = Input(shape=(80, 80,1))\n",
    "        enc_conv1 = Conv2D(12, (3, 3), activation='relu', padding='same')(input_img)\n",
    "        enc_pool1 = MaxPooling2D((2, 2), padding='same')(enc_conv1)\n",
    "        enc_conv2 = Conv2D(8, (4, 4), activation='relu', padding='same')(enc_pool1)\n",
    "        enc_output = MaxPooling2D((4, 4), padding='same')(enc_conv2)\n",
    "        self.shape = K.int_shape(enc_output)\n",
    "        model = Model(input_img, enc_output)\n",
    "        model.summary()\n",
    "        self.encoder = model\n",
    "        return model\n",
    "\n",
    "    def _decoder(self):\n",
    "        dec_input = Input(shape=(10, 10, 8))   \n",
    "        dec_conv2 = Conv2DTranspose(8, (4, 4), activation='relu', padding='same')(dec_input)\n",
    "        t = UpSampling2D((4, 4))(dec_conv2)\n",
    "        dec_conv3 = Conv2DTranspose(12, (3, 3), activation='relu', padding='same')(t)\n",
    "        dec_upsample2 = UpSampling2D((2, 2))(dec_conv3)\n",
    "        dec_output = Conv2DTranspose(1, (3, 3), activation='sigmoid', padding='same')(dec_upsample2)\n",
    "        model = Model(dec_input, dec_output)\n",
    "        model.summary()\n",
    "        self.decoder = model\n",
    "        return model\n",
    "\n",
    "    def encoder_decoder(self):\n",
    "        enc = self._encoder()\n",
    "        dec = self._decoder()\n",
    "        inputs = Input(shape=(80,80,1))\n",
    "        enc_out = enc(inputs)\n",
    "        dec_out = dec(enc_out)\n",
    "        model = Model(inputs, dec_out)\n",
    "        model.summary()\n",
    "        self.model = model\n",
    "        return model\n",
    "\n",
    "    def fit(self, batch_size=128, epochs=20):\n",
    "#         self.model.compile(optimizer='nadam',loss='binary_crossentropy')\n",
    "        self.model.compile(optimizer='adam',loss='mse',metrics=['accuracy'])\n",
    "        self.model.fit(self.x_train, self.x_train, epochs=epochs, batch_size=batch_size, validation_data = (x_test,x_test))\n",
    "\n",
    "    def save_model(self):\n",
    "        self.encoder.save('./weights/encoder_weights.h5')\n",
    "        self.decoder.save('./weights/decoder_weights.h5')\n",
    "        self.model.save('./weights/autoencoder_weights.h5')\n"
   ]
  },
  {
   "cell_type": "code",
   "execution_count": 5,
   "metadata": {},
   "outputs": [
    {
     "name": "stdout",
     "output_type": "stream",
     "text": [
      "Model: \"functional_1\"\n",
      "_________________________________________________________________\n",
      "Layer (type)                 Output Shape              Param #   \n",
      "=================================================================\n",
      "input_1 (InputLayer)         [(None, 80, 80, 1)]       0         \n",
      "_________________________________________________________________\n",
      "conv2d (Conv2D)              (None, 80, 80, 12)        120       \n",
      "_________________________________________________________________\n",
      "max_pooling2d (MaxPooling2D) (None, 40, 40, 12)        0         \n",
      "_________________________________________________________________\n",
      "conv2d_1 (Conv2D)            (None, 40, 40, 8)         1544      \n",
      "_________________________________________________________________\n",
      "max_pooling2d_1 (MaxPooling2 (None, 10, 10, 8)         0         \n",
      "=================================================================\n",
      "Total params: 1,664\n",
      "Trainable params: 1,664\n",
      "Non-trainable params: 0\n",
      "_________________________________________________________________\n",
      "Model: \"functional_3\"\n",
      "_________________________________________________________________\n",
      "Layer (type)                 Output Shape              Param #   \n",
      "=================================================================\n",
      "input_2 (InputLayer)         [(None, 10, 10, 8)]       0         \n",
      "_________________________________________________________________\n",
      "conv2d_transpose (Conv2DTran (None, 10, 10, 8)         1032      \n",
      "_________________________________________________________________\n",
      "up_sampling2d (UpSampling2D) (None, 40, 40, 8)         0         \n",
      "_________________________________________________________________\n",
      "conv2d_transpose_1 (Conv2DTr (None, 40, 40, 12)        876       \n",
      "_________________________________________________________________\n",
      "up_sampling2d_1 (UpSampling2 (None, 80, 80, 12)        0         \n",
      "_________________________________________________________________\n",
      "conv2d_transpose_2 (Conv2DTr (None, 80, 80, 1)         109       \n",
      "=================================================================\n",
      "Total params: 2,017\n",
      "Trainable params: 2,017\n",
      "Non-trainable params: 0\n",
      "_________________________________________________________________\n",
      "Model: \"functional_5\"\n",
      "_________________________________________________________________\n",
      "Layer (type)                 Output Shape              Param #   \n",
      "=================================================================\n",
      "input_3 (InputLayer)         [(None, 80, 80, 1)]       0         \n",
      "_________________________________________________________________\n",
      "functional_1 (Functional)    (None, 10, 10, 8)         1664      \n",
      "_________________________________________________________________\n",
      "functional_3 (Functional)    (None, 80, 80, 1)         2017      \n",
      "=================================================================\n",
      "Total params: 3,681\n",
      "Trainable params: 3,681\n",
      "Non-trainable params: 0\n",
      "_________________________________________________________________\n",
      "Epoch 1/100\n",
      "40/40 [==============================] - 1s 28ms/step - loss: 0.0530 - accuracy: 0.0000e+00 - val_loss: 0.0126 - val_accuracy: 0.0000e+00\n",
      "Epoch 2/100\n",
      "40/40 [==============================] - 1s 19ms/step - loss: 0.0068 - accuracy: 0.0000e+00 - val_loss: 0.0068 - val_accuracy: 0.0000e+00\n",
      "Epoch 3/100\n",
      "40/40 [==============================] - 1s 19ms/step - loss: 0.0040 - accuracy: 0.0000e+00 - val_loss: 0.0054 - val_accuracy: 0.0000e+00\n",
      "Epoch 4/100\n",
      "40/40 [==============================] - 1s 19ms/step - loss: 0.0025 - accuracy: 0.0000e+00 - val_loss: 0.0045 - val_accuracy: 0.0000e+00\n",
      "Epoch 5/100\n",
      "40/40 [==============================] - 1s 19ms/step - loss: 0.0020 - accuracy: 0.0000e+00 - val_loss: 0.0041 - val_accuracy: 0.0000e+00\n",
      "Epoch 6/100\n",
      "40/40 [==============================] - 1s 19ms/step - loss: 0.0018 - accuracy: 0.0000e+00 - val_loss: 0.0039 - val_accuracy: 0.0000e+00\n",
      "Epoch 7/100\n",
      "40/40 [==============================] - 1s 19ms/step - loss: 0.0016 - accuracy: 0.0000e+00 - val_loss: 0.0037 - val_accuracy: 0.0000e+00\n",
      "Epoch 8/100\n",
      "40/40 [==============================] - 1s 19ms/step - loss: 0.0015 - accuracy: 0.0000e+00 - val_loss: 0.0035 - val_accuracy: 0.0000e+00\n",
      "Epoch 9/100\n",
      "40/40 [==============================] - 1s 19ms/step - loss: 0.0015 - accuracy: 0.0000e+00 - val_loss: 0.0034 - val_accuracy: 0.0000e+00\n",
      "Epoch 10/100\n",
      "40/40 [==============================] - 1s 19ms/step - loss: 0.0014 - accuracy: 0.0000e+00 - val_loss: 0.0032 - val_accuracy: 0.0000e+00\n",
      "Epoch 11/100\n",
      "40/40 [==============================] - 1s 19ms/step - loss: 0.0013 - accuracy: 0.0000e+00 - val_loss: 0.0030 - val_accuracy: 0.0000e+00\n",
      "Epoch 12/100\n",
      "40/40 [==============================] - 1s 19ms/step - loss: 0.0013 - accuracy: 0.0000e+00 - val_loss: 0.0028 - val_accuracy: 0.0000e+00\n",
      "Epoch 13/100\n",
      "40/40 [==============================] - 1s 20ms/step - loss: 0.0012 - accuracy: 0.0000e+00 - val_loss: 0.0027 - val_accuracy: 0.0000e+00\n",
      "Epoch 14/100\n",
      "40/40 [==============================] - 1s 19ms/step - loss: 0.0011 - accuracy: 0.0000e+00 - val_loss: 0.0026 - val_accuracy: 0.0000e+00\n",
      "Epoch 15/100\n",
      "40/40 [==============================] - 1s 19ms/step - loss: 0.0011 - accuracy: 0.0000e+00 - val_loss: 0.0025 - val_accuracy: 0.0000e+00\n",
      "Epoch 16/100\n",
      "40/40 [==============================] - 1s 19ms/step - loss: 0.0010 - accuracy: 0.0000e+00 - val_loss: 0.0024 - val_accuracy: 0.0000e+00\n",
      "Epoch 17/100\n",
      "40/40 [==============================] - 1s 20ms/step - loss: 9.6112e-04 - accuracy: 0.0000e+00 - val_loss: 0.0024 - val_accuracy: 0.0000e+00\n",
      "Epoch 18/100\n",
      "40/40 [==============================] - 1s 19ms/step - loss: 9.1712e-04 - accuracy: 0.0000e+00 - val_loss: 0.0023 - val_accuracy: 0.0000e+00\n",
      "Epoch 19/100\n",
      "40/40 [==============================] - 1s 19ms/step - loss: 8.7225e-04 - accuracy: 0.0000e+00 - val_loss: 0.0023 - val_accuracy: 0.0000e+00\n",
      "Epoch 20/100\n",
      "40/40 [==============================] - 1s 19ms/step - loss: 8.2334e-04 - accuracy: 0.0000e+00 - val_loss: 0.0023 - val_accuracy: 0.0000e+00\n",
      "Epoch 21/100\n",
      "40/40 [==============================] - 1s 19ms/step - loss: 7.7047e-04 - accuracy: 0.0000e+00 - val_loss: 0.0022 - val_accuracy: 0.0000e+00\n",
      "Epoch 22/100\n",
      "40/40 [==============================] - 1s 19ms/step - loss: 7.1302e-04 - accuracy: 0.0000e+00 - val_loss: 0.0022 - val_accuracy: 0.0000e+00\n",
      "Epoch 23/100\n",
      "40/40 [==============================] - 1s 19ms/step - loss: 6.5773e-04 - accuracy: 0.0000e+00 - val_loss: 0.0021 - val_accuracy: 0.0000e+00\n",
      "Epoch 24/100\n",
      "40/40 [==============================] - 1s 19ms/step - loss: 6.1274e-04 - accuracy: 0.0000e+00 - val_loss: 0.0021 - val_accuracy: 0.0000e+00\n",
      "Epoch 25/100\n",
      "40/40 [==============================] - 1s 19ms/step - loss: 5.7573e-04 - accuracy: 0.0000e+00 - val_loss: 0.0021 - val_accuracy: 0.0000e+00\n",
      "Epoch 26/100\n",
      "40/40 [==============================] - 1s 19ms/step - loss: 5.4580e-04 - accuracy: 0.0000e+00 - val_loss: 0.0020 - val_accuracy: 0.0000e+00\n",
      "Epoch 27/100\n",
      "40/40 [==============================] - 1s 19ms/step - loss: 5.1634e-04 - accuracy: 0.0000e+00 - val_loss: 0.0020 - val_accuracy: 0.0000e+00\n",
      "Epoch 28/100\n",
      "40/40 [==============================] - 1s 19ms/step - loss: 4.8513e-04 - accuracy: 0.0000e+00 - val_loss: 0.0019 - val_accuracy: 0.0000e+00\n",
      "Epoch 29/100\n",
      "40/40 [==============================] - 1s 19ms/step - loss: 4.4362e-04 - accuracy: 0.0000e+00 - val_loss: 0.0017 - val_accuracy: 0.0000e+00\n",
      "Epoch 30/100\n",
      "40/40 [==============================] - 1s 19ms/step - loss: 3.9965e-04 - accuracy: 0.0000e+00 - val_loss: 0.0015 - val_accuracy: 0.0000e+00\n",
      "Epoch 31/100\n",
      "40/40 [==============================] - 1s 19ms/step - loss: 3.5903e-04 - accuracy: 0.0000e+00 - val_loss: 0.0014 - val_accuracy: 0.0000e+00\n",
      "Epoch 32/100\n",
      "40/40 [==============================] - 1s 20ms/step - loss: 3.2445e-04 - accuracy: 0.0000e+00 - val_loss: 0.0012 - val_accuracy: 0.0000e+00\n",
      "Epoch 33/100\n",
      "40/40 [==============================] - 1s 19ms/step - loss: 2.9579e-04 - accuracy: 0.0000e+00 - val_loss: 0.0011 - val_accuracy: 0.0000e+00\n",
      "Epoch 34/100\n",
      "40/40 [==============================] - 1s 19ms/step - loss: 2.7208e-04 - accuracy: 0.0000e+00 - val_loss: 0.0011 - val_accuracy: 0.0000e+00\n",
      "Epoch 35/100\n"
     ]
    },
    {
     "name": "stdout",
     "output_type": "stream",
     "text": [
      "40/40 [==============================] - 1s 19ms/step - loss: 2.5106e-04 - accuracy: 0.0000e+00 - val_loss: 9.9691e-04 - val_accuracy: 0.0000e+00\n",
      "Epoch 36/100\n",
      "40/40 [==============================] - 1s 19ms/step - loss: 2.3222e-04 - accuracy: 0.0000e+00 - val_loss: 9.3790e-04 - val_accuracy: 0.0000e+00\n",
      "Epoch 37/100\n",
      "40/40 [==============================] - 1s 19ms/step - loss: 2.1510e-04 - accuracy: 0.0000e+00 - val_loss: 8.8787e-04 - val_accuracy: 0.0000e+00\n",
      "Epoch 38/100\n",
      "40/40 [==============================] - 1s 19ms/step - loss: 2.0061e-04 - accuracy: 0.0000e+00 - val_loss: 8.4904e-04 - val_accuracy: 0.0000e+00\n",
      "Epoch 39/100\n",
      "40/40 [==============================] - 1s 19ms/step - loss: 1.8818e-04 - accuracy: 0.0000e+00 - val_loss: 8.1582e-04 - val_accuracy: 0.0000e+00\n",
      "Epoch 40/100\n",
      "40/40 [==============================] - 1s 19ms/step - loss: 1.7725e-04 - accuracy: 0.0000e+00 - val_loss: 7.8542e-04 - val_accuracy: 0.0000e+00\n",
      "Epoch 41/100\n",
      "40/40 [==============================] - 1s 19ms/step - loss: 1.6779e-04 - accuracy: 0.0000e+00 - val_loss: 7.5765e-04 - val_accuracy: 0.0000e+00\n",
      "Epoch 42/100\n",
      "40/40 [==============================] - 1s 19ms/step - loss: 1.6006e-04 - accuracy: 0.0000e+00 - val_loss: 7.3303e-04 - val_accuracy: 0.0000e+00\n",
      "Epoch 43/100\n",
      "40/40 [==============================] - 1s 19ms/step - loss: 1.5263e-04 - accuracy: 0.0000e+00 - val_loss: 7.1497e-04 - val_accuracy: 0.0000e+00\n",
      "Epoch 44/100\n",
      "40/40 [==============================] - 1s 19ms/step - loss: 1.4646e-04 - accuracy: 0.0000e+00 - val_loss: 6.9636e-04 - val_accuracy: 0.0000e+00\n",
      "Epoch 45/100\n",
      "40/40 [==============================] - 1s 20ms/step - loss: 1.4079e-04 - accuracy: 0.0000e+00 - val_loss: 6.7402e-04 - val_accuracy: 0.0000e+00\n",
      "Epoch 46/100\n",
      "40/40 [==============================] - 1s 19ms/step - loss: 1.3558e-04 - accuracy: 0.0000e+00 - val_loss: 6.5753e-04 - val_accuracy: 0.0000e+00\n",
      "Epoch 47/100\n",
      "40/40 [==============================] - 1s 19ms/step - loss: 1.3066e-04 - accuracy: 0.0000e+00 - val_loss: 6.4273e-04 - val_accuracy: 0.0000e+00\n",
      "Epoch 48/100\n",
      "40/40 [==============================] - 1s 19ms/step - loss: 1.2624e-04 - accuracy: 0.0000e+00 - val_loss: 6.2382e-04 - val_accuracy: 0.0000e+00\n",
      "Epoch 49/100\n",
      "40/40 [==============================] - 1s 19ms/step - loss: 1.2200e-04 - accuracy: 0.0000e+00 - val_loss: 6.0591e-04 - val_accuracy: 0.0000e+00\n",
      "Epoch 50/100\n",
      "40/40 [==============================] - 1s 19ms/step - loss: 1.1809e-04 - accuracy: 0.0000e+00 - val_loss: 5.8831e-04 - val_accuracy: 0.0000e+00\n",
      "Epoch 51/100\n",
      "40/40 [==============================] - 1s 19ms/step - loss: 1.1443e-04 - accuracy: 0.0000e+00 - val_loss: 5.7459e-04 - val_accuracy: 0.0000e+00\n",
      "Epoch 52/100\n",
      "40/40 [==============================] - 1s 19ms/step - loss: 1.1100e-04 - accuracy: 0.0000e+00 - val_loss: 5.5789e-04 - val_accuracy: 0.0000e+00\n",
      "Epoch 53/100\n",
      "40/40 [==============================] - 1s 19ms/step - loss: 1.0773e-04 - accuracy: 0.0000e+00 - val_loss: 5.4373e-04 - val_accuracy: 0.0000e+00\n",
      "Epoch 54/100\n",
      "40/40 [==============================] - 1s 19ms/step - loss: 1.0450e-04 - accuracy: 0.0000e+00 - val_loss: 5.2727e-04 - val_accuracy: 0.0000e+00\n",
      "Epoch 55/100\n",
      "40/40 [==============================] - 1s 19ms/step - loss: 1.0125e-04 - accuracy: 0.0000e+00 - val_loss: 5.1705e-04 - val_accuracy: 0.0000e+00\n",
      "Epoch 56/100\n",
      "40/40 [==============================] - 1s 19ms/step - loss: 9.8221e-05 - accuracy: 0.0000e+00 - val_loss: 5.0039e-04 - val_accuracy: 0.0000e+00\n",
      "Epoch 57/100\n",
      "40/40 [==============================] - 1s 19ms/step - loss: 9.5083e-05 - accuracy: 0.0000e+00 - val_loss: 4.8994e-04 - val_accuracy: 0.0000e+00\n",
      "Epoch 58/100\n",
      "40/40 [==============================] - 1s 19ms/step - loss: 9.2543e-05 - accuracy: 0.0000e+00 - val_loss: 4.7796e-04 - val_accuracy: 0.0000e+00\n",
      "Epoch 59/100\n",
      "40/40 [==============================] - 1s 19ms/step - loss: 9.0236e-05 - accuracy: 0.0000e+00 - val_loss: 4.6923e-04 - val_accuracy: 0.0000e+00\n",
      "Epoch 60/100\n",
      "40/40 [==============================] - 1s 19ms/step - loss: 8.7923e-05 - accuracy: 0.0000e+00 - val_loss: 4.6086e-04 - val_accuracy: 0.0000e+00\n",
      "Epoch 61/100\n",
      "40/40 [==============================] - 1s 19ms/step - loss: 8.5811e-05 - accuracy: 0.0000e+00 - val_loss: 4.5269e-04 - val_accuracy: 0.0000e+00\n",
      "Epoch 62/100\n",
      "40/40 [==============================] - 1s 19ms/step - loss: 8.3904e-05 - accuracy: 0.0000e+00 - val_loss: 4.4511e-04 - val_accuracy: 0.0000e+00\n",
      "Epoch 63/100\n",
      "40/40 [==============================] - 1s 19ms/step - loss: 8.2053e-05 - accuracy: 0.0000e+00 - val_loss: 4.3671e-04 - val_accuracy: 0.0000e+00\n",
      "Epoch 64/100\n",
      "40/40 [==============================] - 1s 19ms/step - loss: 8.0018e-05 - accuracy: 0.0000e+00 - val_loss: 4.3091e-04 - val_accuracy: 0.0000e+00\n",
      "Epoch 65/100\n",
      "40/40 [==============================] - 1s 19ms/step - loss: 7.8394e-05 - accuracy: 0.0000e+00 - val_loss: 4.2392e-04 - val_accuracy: 0.0000e+00\n",
      "Epoch 66/100\n",
      "40/40 [==============================] - 1s 20ms/step - loss: 7.6865e-05 - accuracy: 0.0000e+00 - val_loss: 4.1711e-04 - val_accuracy: 0.0000e+00\n",
      "Epoch 67/100\n",
      "40/40 [==============================] - 1s 19ms/step - loss: 7.5456e-05 - accuracy: 0.0000e+00 - val_loss: 4.1414e-04 - val_accuracy: 0.0000e+00\n",
      "Epoch 68/100\n",
      "40/40 [==============================] - 1s 19ms/step - loss: 7.3993e-05 - accuracy: 0.0000e+00 - val_loss: 4.0567e-04 - val_accuracy: 0.0000e+00\n",
      "Epoch 69/100\n",
      "40/40 [==============================] - 1s 19ms/step - loss: 7.2259e-05 - accuracy: 0.0000e+00 - val_loss: 4.0210e-04 - val_accuracy: 0.0000e+00\n",
      "Epoch 70/100\n",
      "40/40 [==============================] - 1s 19ms/step - loss: 7.1100e-05 - accuracy: 0.0000e+00 - val_loss: 3.9408e-04 - val_accuracy: 0.0000e+00\n",
      "Epoch 71/100\n",
      "40/40 [==============================] - 1s 19ms/step - loss: 6.9364e-05 - accuracy: 0.0000e+00 - val_loss: 3.8955e-04 - val_accuracy: 0.0000e+00\n",
      "Epoch 72/100\n",
      "40/40 [==============================] - 1s 19ms/step - loss: 6.8245e-05 - accuracy: 0.0000e+00 - val_loss: 3.8552e-04 - val_accuracy: 0.0000e+00\n",
      "Epoch 73/100\n",
      "40/40 [==============================] - 1s 19ms/step - loss: 6.7244e-05 - accuracy: 0.0000e+00 - val_loss: 3.8132e-04 - val_accuracy: 0.0000e+00\n",
      "Epoch 74/100\n",
      "40/40 [==============================] - 1s 19ms/step - loss: 6.6005e-05 - accuracy: 0.0000e+00 - val_loss: 3.7745e-04 - val_accuracy: 0.0000e+00\n",
      "Epoch 75/100\n",
      "40/40 [==============================] - 1s 19ms/step - loss: 6.5140e-05 - accuracy: 0.0000e+00 - val_loss: 3.7385e-04 - val_accuracy: 0.0000e+00\n",
      "Epoch 76/100\n",
      "40/40 [==============================] - 1s 19ms/step - loss: 6.4190e-05 - accuracy: 0.0000e+00 - val_loss: 3.7093e-04 - val_accuracy: 0.0000e+00\n",
      "Epoch 77/100\n",
      "40/40 [==============================] - 1s 19ms/step - loss: 6.3391e-05 - accuracy: 0.0000e+00 - val_loss: 3.6764e-04 - val_accuracy: 0.0000e+00\n",
      "Epoch 78/100\n",
      "40/40 [==============================] - 1s 19ms/step - loss: 6.2606e-05 - accuracy: 0.0000e+00 - val_loss: 3.6551e-04 - val_accuracy: 0.0000e+00\n",
      "Epoch 79/100\n",
      "40/40 [==============================] - 1s 19ms/step - loss: 6.1742e-05 - accuracy: 0.0000e+00 - val_loss: 3.6125e-04 - val_accuracy: 0.0000e+00\n",
      "Epoch 80/100\n",
      "40/40 [==============================] - 1s 19ms/step - loss: 6.1392e-05 - accuracy: 0.0000e+00 - val_loss: 3.5843e-04 - val_accuracy: 0.0000e+00\n",
      "Epoch 81/100\n",
      "40/40 [==============================] - 1s 19ms/step - loss: 6.0340e-05 - accuracy: 0.0000e+00 - val_loss: 3.5679e-04 - val_accuracy: 0.0000e+00\n",
      "Epoch 82/100\n",
      "40/40 [==============================] - 1s 19ms/step - loss: 5.9652e-05 - accuracy: 0.0000e+00 - val_loss: 3.5382e-04 - val_accuracy: 0.0000e+00\n",
      "Epoch 83/100\n",
      "40/40 [==============================] - 1s 19ms/step - loss: 5.9086e-05 - accuracy: 0.0000e+00 - val_loss: 3.5112e-04 - val_accuracy: 0.0000e+00\n",
      "Epoch 84/100\n",
      "40/40 [==============================] - 1s 19ms/step - loss: 5.8532e-05 - accuracy: 0.0000e+00 - val_loss: 3.5022e-04 - val_accuracy: 0.0000e+00\n",
      "Epoch 85/100\n",
      "40/40 [==============================] - 1s 22ms/step - loss: 5.8086e-05 - accuracy: 0.0000e+00 - val_loss: 3.4744e-04 - val_accuracy: 0.0000e+00\n",
      "Epoch 86/100\n"
     ]
    },
    {
     "name": "stdout",
     "output_type": "stream",
     "text": [
      "40/40 [==============================] - 1s 19ms/step - loss: 5.7486e-05 - accuracy: 0.0000e+00 - val_loss: 3.4632e-04 - val_accuracy: 0.0000e+00\n",
      "Epoch 87/100\n",
      "40/40 [==============================] - 1s 19ms/step - loss: 5.7186e-05 - accuracy: 0.0000e+00 - val_loss: 3.4386e-04 - val_accuracy: 0.0000e+00\n",
      "Epoch 88/100\n",
      "40/40 [==============================] - 1s 19ms/step - loss: 5.6579e-05 - accuracy: 0.0000e+00 - val_loss: 3.4151e-04 - val_accuracy: 0.0000e+00\n",
      "Epoch 89/100\n",
      "40/40 [==============================] - 1s 19ms/step - loss: 5.6492e-05 - accuracy: 0.0000e+00 - val_loss: 3.4208e-04 - val_accuracy: 0.0000e+00\n",
      "Epoch 90/100\n",
      "40/40 [==============================] - 1s 19ms/step - loss: 5.5937e-05 - accuracy: 0.0000e+00 - val_loss: 3.3852e-04 - val_accuracy: 0.0000e+00\n",
      "Epoch 91/100\n",
      "40/40 [==============================] - 1s 19ms/step - loss: 5.5307e-05 - accuracy: 0.0000e+00 - val_loss: 3.3697e-04 - val_accuracy: 0.0000e+00\n",
      "Epoch 92/100\n",
      "40/40 [==============================] - 1s 19ms/step - loss: 5.4869e-05 - accuracy: 0.0000e+00 - val_loss: 3.3574e-04 - val_accuracy: 0.0000e+00\n",
      "Epoch 93/100\n",
      "40/40 [==============================] - 1s 19ms/step - loss: 5.4592e-05 - accuracy: 0.0000e+00 - val_loss: 3.3471e-04 - val_accuracy: 0.0000e+00\n",
      "Epoch 94/100\n",
      "40/40 [==============================] - 1s 19ms/step - loss: 5.4204e-05 - accuracy: 0.0000e+00 - val_loss: 3.3283e-04 - val_accuracy: 0.0000e+00\n",
      "Epoch 95/100\n",
      "40/40 [==============================] - 1s 19ms/step - loss: 5.4533e-05 - accuracy: 0.0000e+00 - val_loss: 3.3081e-04 - val_accuracy: 0.0000e+00\n",
      "Epoch 96/100\n",
      "40/40 [==============================] - 1s 19ms/step - loss: 5.3420e-05 - accuracy: 0.0000e+00 - val_loss: 3.2955e-04 - val_accuracy: 0.0000e+00\n",
      "Epoch 97/100\n",
      "40/40 [==============================] - 1s 19ms/step - loss: 5.2949e-05 - accuracy: 0.0000e+00 - val_loss: 3.2847e-04 - val_accuracy: 0.0000e+00\n",
      "Epoch 98/100\n",
      "40/40 [==============================] - 1s 19ms/step - loss: 5.2787e-05 - accuracy: 0.0000e+00 - val_loss: 3.2775e-04 - val_accuracy: 0.0000e+00\n",
      "Epoch 99/100\n",
      "40/40 [==============================] - 1s 19ms/step - loss: 5.2327e-05 - accuracy: 0.0000e+00 - val_loss: 3.2596e-04 - val_accuracy: 0.0000e+00\n",
      "Epoch 100/100\n",
      "40/40 [==============================] - 1s 19ms/step - loss: 5.2013e-05 - accuracy: 0.0000e+00 - val_loss: 3.2517e-04 - val_accuracy: 0.0000e+00\n"
     ]
    }
   ],
   "source": [
    "ae = AutoEncoder(x_train,x_test)\n",
    "ae.encoder_decoder()\n",
    "ae.fit(batch_size=128,epochs=100)\n",
    "ae.save_model()"
   ]
  },
  {
   "cell_type": "code",
   "execution_count": 6,
   "metadata": {},
   "outputs": [],
   "source": [
    "encoder = load_model('./weights/encoder_weights.h5',compile=False)\n",
    "decoder = load_model('./weights/decoder_weights.h5',compile=False)"
   ]
  },
  {
   "cell_type": "code",
   "execution_count": 19,
   "metadata": {},
   "outputs": [
    {
     "name": "stdout",
     "output_type": "stream",
     "text": [
      "(1, 80, 80, 1)\n",
      "(1, 10, 10, 8)\n",
      "(1, 80, 80, 1)\n"
     ]
    }
   ],
   "source": [
    "\n",
    "inputs = x_test[50].reshape(1,80,80,1)\n",
    "x = encoder.predict(inputs)\n",
    "y = decoder.predict(x)\n",
    "\n",
    "print(inputs.shape)\n",
    "print(x.shape)\n",
    "print(y.shape)"
   ]
  },
  {
   "cell_type": "code",
   "execution_count": 20,
   "metadata": {},
   "outputs": [
    {
     "data": {
      "text/plain": [
       "<matplotlib.image.AxesImage at 0x7f4774cf3130>"
      ]
     },
     "execution_count": 20,
     "metadata": {},
     "output_type": "execute_result"
    },
    {
     "data": {
      "image/png": "[encoded data removed]",
      "text/plain": [
       "<Figure size 432x288 with 1 Axes>"
      ]
     },
     "metadata": {
      "needs_background": "light"
     },
     "output_type": "display_data"
    }
   ],
   "source": [
    "plt.imshow(inputs.reshape(80, 80),cmap='gray')"
   ]
  },
  {
   "cell_type": "code",
   "execution_count": 21,
   "metadata": {},
   "outputs": [
    {
     "data": {
      "text/plain": [
       "<matplotlib.image.AxesImage at 0x7f4774cbd820>"
      ]
     },
     "execution_count": 21,
     "metadata": {},
     "output_type": "execute_result"
    },
    {
     "data": {
      "image/png": "[encoded data removed]",
      "text/plain": [
       "<Figure size 432x288 with 1 Axes>"
      ]
     },
     "metadata": {
      "needs_background": "light"
     },
     "output_type": "display_data"
    }
   ],
   "source": [
    "plt.imshow(x.reshape(10,80),cmap='gray')"
   ]
  },
  {
   "cell_type": "code",
   "execution_count": 22,
   "metadata": {},
   "outputs": [
    {
     "data": {
      "text/plain": [
       "<matplotlib.image.AxesImage at 0x7f4774c641c0>"
      ]
     },
     "execution_count": 22,
     "metadata": {},
     "output_type": "execute_result"
    },
    {
     "data": {
      "image/png": "[encoded data removed]",
      "text/plain": [
       "<Figure size 432x288 with 1 Axes>"
      ]
     },
     "metadata": {
      "needs_background": "light"
     },
     "output_type": "display_data"
    }
   ],
   "source": [
    "plt.imshow(y.reshape(80, 80),cmap='gray')"
   ]
  },
  {
   "cell_type": "code",
   "execution_count": null,
   "metadata": {},
   "outputs": [],
   "source": []
  }
 ],
 "metadata": {
  "kernelspec": {
   "display_name": "Python 3",
   "language": "python",
   "name": "python3"
  },
  "language_info": {
   "codemirror_mode": {
    "name": "ipython",
    "version": 3
   },
   "file_extension": ".py",
   "mimetype": "text/x-python",
   "name": "python",
   "nbconvert_exporter": "python",
   "pygments_lexer": "ipython3",
   "version": "3.8.5"
  }
 },
 "nbformat": 4,
 "nbformat_minor": 4
}
